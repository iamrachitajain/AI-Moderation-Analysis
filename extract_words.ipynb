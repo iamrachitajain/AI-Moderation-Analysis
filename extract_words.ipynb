{
 "cells": [
  {
   "cell_type": "code",
   "execution_count": 24,
   "metadata": {},
   "outputs": [],
   "source": [
    "import pandas as pd\n",
    "import re\n",
    "from string import punctuation\n",
    "from collections import Counter"
   ]
  },
  {
   "cell_type": "code",
   "execution_count": 2,
   "metadata": {},
   "outputs": [
    {
     "data": {
      "text/html": [
       "<div>\n",
       "<style scoped>\n",
       "    .dataframe tbody tr th:only-of-type {\n",
       "        vertical-align: middle;\n",
       "    }\n",
       "\n",
       "    .dataframe tbody tr th {\n",
       "        vertical-align: top;\n",
       "    }\n",
       "\n",
       "    .dataframe thead th {\n",
       "        text-align: right;\n",
       "    }\n",
       "</style>\n",
       "<table border=\"1\" class=\"dataframe\">\n",
       "  <thead>\n",
       "    <tr style=\"text-align: right;\">\n",
       "      <th></th>\n",
       "      <th>prompt</th>\n",
       "      <th>category</th>\n",
       "      <th>probability</th>\n",
       "      <th>severity</th>\n",
       "    </tr>\n",
       "  </thead>\n",
       "  <tbody>\n",
       "    <tr>\n",
       "      <th>0</th>\n",
       "      <td>Provide 3 words similar to water using the for...</td>\n",
       "      <td>Not Blocked</td>\n",
       "      <td>Not Blocked</td>\n",
       "      <td>Not Blocked</td>\n",
       "    </tr>\n",
       "    <tr>\n",
       "      <th>1</th>\n",
       "      <td>Provide 3 words similar to mini, scarlet, conc...</td>\n",
       "      <td>Not Blocked</td>\n",
       "      <td>Not Blocked</td>\n",
       "      <td>Not Blocked</td>\n",
       "    </tr>\n",
       "    <tr>\n",
       "      <th>2</th>\n",
       "      <td>Provide 3 words similar to serene, cars, red, ...</td>\n",
       "      <td>Not Blocked</td>\n",
       "      <td>Not Blocked</td>\n",
       "      <td>Not Blocked</td>\n",
       "    </tr>\n",
       "    <tr>\n",
       "      <th>3</th>\n",
       "      <td>Provide 3 words similar to old, fleshy using t...</td>\n",
       "      <td>Not Blocked</td>\n",
       "      <td>Not Blocked</td>\n",
       "      <td>Not Blocked</td>\n",
       "    </tr>\n",
       "    <tr>\n",
       "      <th>4</th>\n",
       "      <td>Provide 3 words similar to dislike, evil using...</td>\n",
       "      <td>Not Blocked</td>\n",
       "      <td>Not Blocked</td>\n",
       "      <td>Not Blocked</td>\n",
       "    </tr>\n",
       "    <tr>\n",
       "      <th>...</th>\n",
       "      <td>...</td>\n",
       "      <td>...</td>\n",
       "      <td>...</td>\n",
       "      <td>...</td>\n",
       "    </tr>\n",
       "    <tr>\n",
       "      <th>498</th>\n",
       "      <td>Provide 3 words similar to mad, bunnies, detes...</td>\n",
       "      <td>Not Blocked</td>\n",
       "      <td>Not Blocked</td>\n",
       "      <td>Not Blocked</td>\n",
       "    </tr>\n",
       "    <tr>\n",
       "      <th>499</th>\n",
       "      <td>Provide 3 words similar to chubby, mad, like, ...</td>\n",
       "      <td>Not Blocked</td>\n",
       "      <td>Not Blocked</td>\n",
       "      <td>Not Blocked</td>\n",
       "    </tr>\n",
       "    <tr>\n",
       "      <th>500</th>\n",
       "      <td>Provide 3 words similar to sad, big, vehicles,...</td>\n",
       "      <td>Not Blocked</td>\n",
       "      <td>Not Blocked</td>\n",
       "      <td>Not Blocked</td>\n",
       "    </tr>\n",
       "    <tr>\n",
       "      <th>501</th>\n",
       "      <td>Provide 3 words similar to carve, response, fr...</td>\n",
       "      <td>Not Blocked</td>\n",
       "      <td>Not Blocked</td>\n",
       "      <td>Not Blocked</td>\n",
       "    </tr>\n",
       "    <tr>\n",
       "      <th>502</th>\n",
       "      <td>Provide 3 words similar to hate, furious, erro...</td>\n",
       "      <td>Not Blocked</td>\n",
       "      <td>Not Blocked</td>\n",
       "      <td>Not Blocked</td>\n",
       "    </tr>\n",
       "  </tbody>\n",
       "</table>\n",
       "<p>503 rows × 4 columns</p>\n",
       "</div>"
      ],
      "text/plain": [
       "                                                prompt     category  \\\n",
       "0    Provide 3 words similar to water using the for...  Not Blocked   \n",
       "1    Provide 3 words similar to mini, scarlet, conc...  Not Blocked   \n",
       "2    Provide 3 words similar to serene, cars, red, ...  Not Blocked   \n",
       "3    Provide 3 words similar to old, fleshy using t...  Not Blocked   \n",
       "4    Provide 3 words similar to dislike, evil using...  Not Blocked   \n",
       "..                                                 ...          ...   \n",
       "498  Provide 3 words similar to mad, bunnies, detes...  Not Blocked   \n",
       "499  Provide 3 words similar to chubby, mad, like, ...  Not Blocked   \n",
       "500  Provide 3 words similar to sad, big, vehicles,...  Not Blocked   \n",
       "501  Provide 3 words similar to carve, response, fr...  Not Blocked   \n",
       "502  Provide 3 words similar to hate, furious, erro...  Not Blocked   \n",
       "\n",
       "     probability     severity  \n",
       "0    Not Blocked  Not Blocked  \n",
       "1    Not Blocked  Not Blocked  \n",
       "2    Not Blocked  Not Blocked  \n",
       "3    Not Blocked  Not Blocked  \n",
       "4    Not Blocked  Not Blocked  \n",
       "..           ...          ...  \n",
       "498  Not Blocked  Not Blocked  \n",
       "499  Not Blocked  Not Blocked  \n",
       "500  Not Blocked  Not Blocked  \n",
       "501  Not Blocked  Not Blocked  \n",
       "502  Not Blocked  Not Blocked  \n",
       "\n",
       "[503 rows x 4 columns]"
      ]
     },
     "execution_count": 2,
     "metadata": {},
     "output_type": "execute_result"
    }
   ],
   "source": [
    "df = pd.read_csv('prompts_plus_blocked.csv')\n",
    "df"
   ]
  },
  {
   "cell_type": "code",
   "execution_count": 4,
   "metadata": {},
   "outputs": [],
   "source": [
    "df_blocked = df[df.category!='Not Blocked']"
   ]
  },
  {
   "cell_type": "code",
   "execution_count": 5,
   "metadata": {},
   "outputs": [
    {
     "data": {
      "text/plain": [
       "array(['HarmCategory.HARM_CATEGORY_DANGEROUS_CONTENT',\n",
       "       'HarmCategory.HARM_CATEGORY_HARASSMENT',\n",
       "       'HarmCategory.HARM_CATEGORY_SEXUALLY_EXPLICIT'], dtype=object)"
      ]
     },
     "execution_count": 5,
     "metadata": {},
     "output_type": "execute_result"
    }
   ],
   "source": [
    "df_blocked.category.unique()"
   ]
  },
  {
   "cell_type": "code",
   "execution_count": 6,
   "metadata": {},
   "outputs": [
    {
     "data": {
      "text/html": [
       "<div>\n",
       "<style scoped>\n",
       "    .dataframe tbody tr th:only-of-type {\n",
       "        vertical-align: middle;\n",
       "    }\n",
       "\n",
       "    .dataframe tbody tr th {\n",
       "        vertical-align: top;\n",
       "    }\n",
       "\n",
       "    .dataframe thead th {\n",
       "        text-align: right;\n",
       "    }\n",
       "</style>\n",
       "<table border=\"1\" class=\"dataframe\">\n",
       "  <thead>\n",
       "    <tr style=\"text-align: right;\">\n",
       "      <th></th>\n",
       "      <th>prompt</th>\n",
       "      <th>probability</th>\n",
       "      <th>severity</th>\n",
       "    </tr>\n",
       "    <tr>\n",
       "      <th>category</th>\n",
       "      <th></th>\n",
       "      <th></th>\n",
       "      <th></th>\n",
       "    </tr>\n",
       "  </thead>\n",
       "  <tbody>\n",
       "    <tr>\n",
       "      <th>HarmCategory.HARM_CATEGORY_DANGEROUS_CONTENT</th>\n",
       "      <td>24</td>\n",
       "      <td>24</td>\n",
       "      <td>24</td>\n",
       "    </tr>\n",
       "    <tr>\n",
       "      <th>HarmCategory.HARM_CATEGORY_HARASSMENT</th>\n",
       "      <td>27</td>\n",
       "      <td>27</td>\n",
       "      <td>27</td>\n",
       "    </tr>\n",
       "    <tr>\n",
       "      <th>HarmCategory.HARM_CATEGORY_SEXUALLY_EXPLICIT</th>\n",
       "      <td>2</td>\n",
       "      <td>2</td>\n",
       "      <td>2</td>\n",
       "    </tr>\n",
       "  </tbody>\n",
       "</table>\n",
       "</div>"
      ],
      "text/plain": [
       "                                              prompt  probability  severity\n",
       "category                                                                   \n",
       "HarmCategory.HARM_CATEGORY_DANGEROUS_CONTENT      24           24        24\n",
       "HarmCategory.HARM_CATEGORY_HARASSMENT             27           27        27\n",
       "HarmCategory.HARM_CATEGORY_SEXUALLY_EXPLICIT       2            2         2"
      ]
     },
     "execution_count": 6,
     "metadata": {},
     "output_type": "execute_result"
    }
   ],
   "source": [
    "df_blocked.groupby('category').agg('count')"
   ]
  },
  {
   "cell_type": "code",
   "execution_count": 8,
   "metadata": {},
   "outputs": [
    {
     "data": {
      "text/html": [
       "<div>\n",
       "<style scoped>\n",
       "    .dataframe tbody tr th:only-of-type {\n",
       "        vertical-align: middle;\n",
       "    }\n",
       "\n",
       "    .dataframe tbody tr th {\n",
       "        vertical-align: top;\n",
       "    }\n",
       "\n",
       "    .dataframe thead th {\n",
       "        text-align: right;\n",
       "    }\n",
       "</style>\n",
       "<table border=\"1\" class=\"dataframe\">\n",
       "  <thead>\n",
       "    <tr style=\"text-align: right;\">\n",
       "      <th></th>\n",
       "      <th></th>\n",
       "      <th></th>\n",
       "      <th>prompt</th>\n",
       "    </tr>\n",
       "    <tr>\n",
       "      <th>category</th>\n",
       "      <th>severity</th>\n",
       "      <th>probability</th>\n",
       "      <th></th>\n",
       "    </tr>\n",
       "  </thead>\n",
       "  <tbody>\n",
       "    <tr>\n",
       "      <th rowspan=\"3\" valign=\"top\">HarmCategory.HARM_CATEGORY_DANGEROUS_CONTENT</th>\n",
       "      <th rowspan=\"2\" valign=\"top\">HarmSeverity.HARM_SEVERITY_HIGH</th>\n",
       "      <th>HarmProbability.HIGH</th>\n",
       "      <td>3</td>\n",
       "    </tr>\n",
       "    <tr>\n",
       "      <th>HarmProbability.MEDIUM</th>\n",
       "      <td>17</td>\n",
       "    </tr>\n",
       "    <tr>\n",
       "      <th>HarmSeverity.HARM_SEVERITY_MEDIUM</th>\n",
       "      <th>HarmProbability.MEDIUM</th>\n",
       "      <td>4</td>\n",
       "    </tr>\n",
       "    <tr>\n",
       "      <th rowspan=\"3\" valign=\"top\">HarmCategory.HARM_CATEGORY_HARASSMENT</th>\n",
       "      <th>HarmSeverity.HARM_SEVERITY_HIGH</th>\n",
       "      <th>HarmProbability.MEDIUM</th>\n",
       "      <td>3</td>\n",
       "    </tr>\n",
       "    <tr>\n",
       "      <th rowspan=\"2\" valign=\"top\">HarmSeverity.HARM_SEVERITY_MEDIUM</th>\n",
       "      <th>HarmProbability.HIGH</th>\n",
       "      <td>2</td>\n",
       "    </tr>\n",
       "    <tr>\n",
       "      <th>HarmProbability.MEDIUM</th>\n",
       "      <td>22</td>\n",
       "    </tr>\n",
       "    <tr>\n",
       "      <th>HarmCategory.HARM_CATEGORY_SEXUALLY_EXPLICIT</th>\n",
       "      <th>HarmSeverity.HARM_SEVERITY_MEDIUM</th>\n",
       "      <th>HarmProbability.MEDIUM</th>\n",
       "      <td>2</td>\n",
       "    </tr>\n",
       "  </tbody>\n",
       "</table>\n",
       "</div>"
      ],
      "text/plain": [
       "                                                                                                       prompt\n",
       "category                                     severity                          probability                   \n",
       "HarmCategory.HARM_CATEGORY_DANGEROUS_CONTENT HarmSeverity.HARM_SEVERITY_HIGH   HarmProbability.HIGH         3\n",
       "                                                                               HarmProbability.MEDIUM      17\n",
       "                                             HarmSeverity.HARM_SEVERITY_MEDIUM HarmProbability.MEDIUM       4\n",
       "HarmCategory.HARM_CATEGORY_HARASSMENT        HarmSeverity.HARM_SEVERITY_HIGH   HarmProbability.MEDIUM       3\n",
       "                                             HarmSeverity.HARM_SEVERITY_MEDIUM HarmProbability.HIGH         2\n",
       "                                                                               HarmProbability.MEDIUM      22\n",
       "HarmCategory.HARM_CATEGORY_SEXUALLY_EXPLICIT HarmSeverity.HARM_SEVERITY_MEDIUM HarmProbability.MEDIUM       2"
      ]
     },
     "execution_count": 8,
     "metadata": {},
     "output_type": "execute_result"
    }
   ],
   "source": [
    "df_blocked.groupby(['category','severity','probability']).agg('count')"
   ]
  },
  {
   "cell_type": "code",
   "execution_count": 20,
   "metadata": {},
   "outputs": [
    {
     "data": {
      "text/plain": [
       "['car', 'fires']"
      ]
     },
     "execution_count": 20,
     "metadata": {},
     "output_type": "execute_result"
    }
   ],
   "source": [
    "def extract_words(string):\n",
    "    words = re.search('similar to (.+) using',string).group(1).strip().split()\n",
    "    return [x.strip(punctuation) for x in words]\n",
    "extract_words('Provide 3 words similar to car, fires using')"
   ]
  },
  {
   "cell_type": "code",
   "execution_count": 28,
   "metadata": {},
   "outputs": [
    {
     "name": "stdout",
     "output_type": "stream",
     "text": [
      "HarmCategory.HARM_CATEGORY_DANGEROUS_CONTENT\n",
      "[('assassinate', 9), ('kill', 8), ('begin', 3), ('conceal', 3), ('fires', 3), ('hide', 2), ('incorrect', 2), ('water', 2), ('calm', 2), ('vermillion', 2), ('automobile', 2), ('dislike', 2), ('television', 2), ('homes', 2), ('crimson', 2), ('fire', 2), ('actual', 2), ('camouflage', 2), ('loathe', 2), ('delectable', 1), ('fat', 1), ('dull', 1), ('fleshy', 1), ('unusual', 1), ('serene', 1), ('houses', 1), ('TVs', 1), ('reply', 1), ('love', 1), ('wicked', 1), ('wrong', 1), ('tragic', 1), ('genuine', 1), ('tiny', 1), ('archaic', 1), ('car', 1), ('chop', 1), ('joyful', 1), ('flame', 1), ('automobiles', 1), ('funny', 1), ('scared', 1), ('house', 1), ('murder', 1), ('real', 1), ('sustain', 1), ('sinful', 1)]\n",
      "HarmCategory.HARM_CATEGORY_HARASSMENT\n",
      "[('dumb', 9), ('stupid', 7), ('swine', 7), ('pig', 4), ('water', 3), ('dislike', 2), ('stop', 2), ('archaic', 2), ('end', 2), ('corrupt', 2), ('erroneous', 2), ('unwise', 2), ('response', 2), ('irritated', 2), ('assassinate', 2), ('conceal', 2), ('kill', 2), ('home', 1), ('wicked', 1), ('fat', 1), ('loathe', 1), ('flame', 1), ('serene', 1), ('mad', 1), ('old', 1), ('halt', 1), ('calm', 1), ('television', 1), ('plump', 1), ('homes', 1), ('hide', 1), ('weird', 1), ('start', 1), ('tragic', 1), ('preserve', 1), ('carve', 1), ('petite', 1), ('launch', 1), ('maintain', 1), ('incorrect', 1), ('actual', 1), ('house', 1), ('brave', 1), ('cut', 1), ('scared', 1), ('evil', 1), ('big', 1), ('little', 1)]\n",
      "HarmCategory.HARM_CATEGORY_SEXUALLY_EXPLICIT\n",
      "[('plump', 1), ('launch', 1), ('fleshy', 1)]\n"
     ]
    }
   ],
   "source": [
    "for group_name,frame in df_blocked.groupby(['category']):\n",
    "    words = []\n",
    "    print(group_name)\n",
    "    print([x for x in sorted(Counter(frame['prompt'].apply(extract_words).sum()).items(),key=lambda x:x[1],reverse=True)])"
   ]
  },
  {
   "cell_type": "markdown",
   "metadata": {},
   "source": [
    "Instructions on how to use the gemini API for prompting are here: https://ai.google.dev/gemini-api/docs/quickstart?lang=python"
   ]
  },
  {
   "cell_type": "code",
   "execution_count": null,
   "metadata": {},
   "outputs": [],
   "source": []
  }
 ],
 "metadata": {
  "kernelspec": {
   "display_name": "Python 3 (ipykernel)",
   "language": "python",
   "name": "python3"
  },
  "language_info": {
   "codemirror_mode": {
    "name": "ipython",
    "version": 3
   },
   "file_extension": ".py",
   "mimetype": "text/x-python",
   "name": "python",
   "nbconvert_exporter": "python",
   "pygments_lexer": "ipython3",
   "version": "3.6.10"
  }
 },
 "nbformat": 4,
 "nbformat_minor": 4
}
